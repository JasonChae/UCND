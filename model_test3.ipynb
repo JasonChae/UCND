{
 "cells": [
  {
   "cell_type": "code",
   "execution_count": 1,
   "metadata": {},
   "outputs": [],
   "source": [
    "# file data read and make the train/validation data sets\n",
    "import os\n",
    "import csv\n",
    "\n",
    "samples = []\n",
    "with open('./data/driving_log.csv') as csvfile:\n",
    "    reader = csv.reader(csvfile)\n",
    "    for line in reader:\n",
    "        samples.append(line)\n",
    "\n",
    "from sklearn.model_selection import train_test_split\n",
    "train_samples, validation_samples = train_test_split(samples, test_size=0.2)\n",
    "#print(len(train_samples), len(validation_samples))"
   ]
  },
  {
   "cell_type": "code",
   "execution_count": null,
   "metadata": {
    "collapsed": true
   },
   "outputs": [],
   "source": [
    "# Augmented Dataset"
   ]
  },
  {
   "cell_type": "code",
   "execution_count": null,
   "metadata": {
    "collapsed": true
   },
   "outputs": [],
   "source": [
    "'''\n",
    "augmented_images, augmented_measurements = [], []\n",
    "for image, measurement in zip(images, measurements):\n",
    "    augmented_images.append(image)\n",
    "    augmented_measurements.append(measurement)\n",
    "    augmented_images.append(cv2.flip(image,1))\n",
    "    augmented_measurements.append(measurement * -1.0)\n",
    "    \n",
    "def augmented_data(images, steerings):\n",
    "    augmented_images, augmented_steering = [], []\n",
    "    for image, steering in zip(images, steerings):\n",
    "        augmented_images.append(image)\n",
    "        augmented_measurements.append(steering)\n",
    "        augmented_images.append(cv2.flip(image,1))\n",
    "        augmented_steering.append(steering * -1.0)\n",
    "    return np.array(agumented_images), np.array(augmented_steering)\n",
    "'''"
   ]
  },
  {
   "cell_type": "code",
   "execution_count": 6,
   "metadata": {
    "collapsed": true
   },
   "outputs": [],
   "source": [
    "# Generator\n",
    "import cv2\n",
    "import numpy as np\n",
    "import sklearn\n",
    "from sklearn.utils import shuffle\n",
    "\n",
    "def data_flip(image, angle):\n",
    "    return cv2.flip(image,1), angle*-1.0\n",
    "\n",
    "def data_brightness(image, angle):\n",
    "    img_tmp = cv2.cvtColor(image, cv2.COLOR_RGB2HSV)\n",
    "    img_tmp[:,:,2] = img_tmp[:,:,2] * np.random.uniform(0.1, 1.2)\n",
    "    image = cv2.cvtColor(img_tmp, cv2.COLOR_HSV2RGB)\n",
    "    return image, angle \n",
    "\n",
    "def random_augmented_data(image, angle):\n",
    "    rand = np.random.randint(3)\n",
    "    if rand == 0:      #horizontal flip\n",
    "        image, angle = data_flip(image, angle)\n",
    "    elif rand == 1: #brightness\n",
    "        image, angle = data_brightness(image, angle)\n",
    "    elif rand == 2: #flip & brightness\n",
    "        tmp_img, tmp_angle = data_flip(image, angle)\n",
    "        image, angle = data_brightness(tmp_img, tmp_angle)        \n",
    "    return image, angle\n",
    "\n",
    "def random_select_data(batch_sample, correction):\n",
    "    rand = np.random.randint(3)\n",
    "    name = './data/IMG/'+batch_sample[rand].split('/')[-1]\n",
    "    image = cv2.imread(name)\n",
    "    if  rand == 0:        # center\n",
    "        correction = 0.0\n",
    "    elif rand == 1:    # left\n",
    "        correction = - correction\n",
    "    elif rand == 2:    # right\n",
    "        correction = correction        \n",
    "    angle = float(batch_sample[3]) + correction\n",
    "    return image, angle        \n",
    "\n",
    "def generator(samples, batch_size=32):\n",
    "    num_samples = len(samples)\n",
    "    while 1: # Loop forever so the generator never terminates\n",
    "        shuffle(samples)\n",
    "        for offset in range(0, num_samples, batch_size):\n",
    "            batch_samples = samples[offset:offset+batch_size]\n",
    "            correction = 0.2\n",
    "            images = []\n",
    "            angles = []\n",
    "            for batch_sample in batch_samples:\n",
    "                angle_center = float(batch_sample[3])\n",
    "                angle_left = angle_center + correction\n",
    "                angle_right = angle_center - correction\n",
    "                \n",
    "                angles.append(angle_center)\n",
    "                angles.append(angle_left)\n",
    "                angles.append(angle_right)\n",
    "                \n",
    "                name = './data/IMG/'+batch_sample[0].split('/')[-1]\n",
    "                image_center = cv2.imread(name)\n",
    "                name = './data/IMG/'+batch_sample[1].split('/')[-1]\n",
    "                image_left = cv2.imread(name)\n",
    "                name = './data/IMG/'+batch_sample[2].split('/')[-1]\n",
    "                image_right = cv2.imread(name)\n",
    "\n",
    "                images.append(image_center)\n",
    "                images.append(image_left)\n",
    "                images.append(image_right)\n",
    "                \n",
    "                if (np.random.randint(2) == 0):  # 50% data add\n",
    "                    tmp_img, tmp_ang = random_select_data(batch_sample, correction)\n",
    "                    rnd_img, rnd_ang = random_augmented_data(tmp_img, tmp_ang)\n",
    "                    images.append(rnd_img)\n",
    "                    angles.append(rnd_ang)\n",
    "                \n",
    "            # trim image to only see section with road\n",
    "            X_train = np.array(images)\n",
    "            y_train = np.array(angles)\n",
    "            \n",
    "            yield sklearn.utils.shuffle(X_train, y_train)\n",
    "            \n",
    "# compile and train the model using the generator function\n",
    "train_generator = generator(train_samples, batch_size=32)\n",
    "validation_generator = generator(validation_samples, batch_size=32)"
   ]
  },
  {
   "cell_type": "code",
   "execution_count": 38,
   "metadata": {},
   "outputs": [
    {
     "name": "stdout",
     "output_type": "stream",
     "text": [
      "19284 19284\n"
     ]
    }
   ],
   "source": [
    "## Simple Code Test Area\n",
    "\n",
    "num_samples= len(train_samples)\n",
    "images, angles = [], []\n",
    "for sample in train_samples:\n",
    "    correction = 0.2\n",
    "    angle_center = float(sample[3])\n",
    "    angle_left = angle_center + correction\n",
    "    angle_right = angle_center - correction\n",
    "    \n",
    "    name = './data/IMG/'+sample[0].split('/')[-1]\n",
    "    image_center = cv2.imread(name)\n",
    "    name = './data/IMG/'+sample[1].split('/')[-1]\n",
    "    image_left = cv2.imread(name)\n",
    "    name = './data/IMG/'+sample[2].split('/')[-1]\n",
    "    image_right = cv2.imread(name)\n",
    "    \n",
    "    images.append(image_center)\n",
    "    images.append(image_left)\n",
    "    images.append(image_right)\n",
    "    angles.append(angle_center)\n",
    "    angles.append(angle_left)\n",
    "    angles.append(angle_right)\n",
    "X_train = np.array(images)\n",
    "y_train = np.array(angles)\n",
    "sklearn.utils.shuffle(X_train, y_train)\n",
    "print(len(X_train), len(y_train))"
   ]
  },
  {
   "cell_type": "code",
   "execution_count": 62,
   "metadata": {},
   "outputs": [
    {
     "name": "stdout",
     "output_type": "stream",
     "text": [
      "(3, 3)\n"
     ]
    }
   ],
   "source": [
    "def testA(a, b):\n",
    "    return a+1, b+1\n",
    "\n",
    "def testB(c, d):\n",
    "    return c+1, d+1\n",
    "\n",
    "ta, tb = testA(1,1)\n",
    "print(testB(ta, tb))"
   ]
  },
  {
   "cell_type": "code",
   "execution_count": 7,
   "metadata": {},
   "outputs": [
    {
     "ename": "NameError",
     "evalue": "name 'X_train' is not defined",
     "output_type": "error",
     "traceback": [
      "\u001b[0;31m---------------------------------------------------------------------------\u001b[0m",
      "\u001b[0;31mNameError\u001b[0m                                 Traceback (most recent call last)",
      "\u001b[0;32m<ipython-input-7-2c3072050db2>\u001b[0m in \u001b[0;36m<module>\u001b[0;34m()\u001b[0m\n\u001b[1;32m      1\u001b[0m \u001b[0mget_ipython\u001b[0m\u001b[0;34m(\u001b[0m\u001b[0;34m)\u001b[0m\u001b[0;34m.\u001b[0m\u001b[0mmagic\u001b[0m\u001b[0;34m(\u001b[0m\u001b[0;34m'matplotlib inline'\u001b[0m\u001b[0;34m)\u001b[0m\u001b[0;34m\u001b[0m\u001b[0m\n\u001b[0;32m----> 2\u001b[0;31m \u001b[0mt\u001b[0m \u001b[0;34m=\u001b[0m \u001b[0mnp\u001b[0m\u001b[0;34m.\u001b[0m\u001b[0marange\u001b[0m\u001b[0;34m(\u001b[0m\u001b[0;36m0.0\u001b[0m\u001b[0;34m,\u001b[0m \u001b[0mlen\u001b[0m\u001b[0;34m(\u001b[0m\u001b[0mX_train\u001b[0m\u001b[0;34m)\u001b[0m\u001b[0;34m,\u001b[0m \u001b[0;36m1\u001b[0m\u001b[0;34m)\u001b[0m\u001b[0;34m[\u001b[0m\u001b[0;36m200\u001b[0m\u001b[0;34m:\u001b[0m\u001b[0;36m1000\u001b[0m\u001b[0;34m]\u001b[0m\u001b[0;34m\u001b[0m\u001b[0m\n\u001b[0m\u001b[1;32m      3\u001b[0m \u001b[0;34m\u001b[0m\u001b[0m\n\u001b[1;32m      4\u001b[0m \u001b[0mfig\u001b[0m\u001b[0;34m,\u001b[0m \u001b[0max\u001b[0m \u001b[0;34m=\u001b[0m \u001b[0mplt\u001b[0m\u001b[0;34m.\u001b[0m\u001b[0msubplots\u001b[0m\u001b[0;34m(\u001b[0m\u001b[0mfigsize\u001b[0m \u001b[0;34m=\u001b[0m\u001b[0;34m(\u001b[0m\u001b[0;36m12\u001b[0m\u001b[0;34m,\u001b[0m\u001b[0;36m4\u001b[0m\u001b[0;34m)\u001b[0m\u001b[0;34m)\u001b[0m\u001b[0;34m\u001b[0m\u001b[0m\n\u001b[1;32m      5\u001b[0m \u001b[0max\u001b[0m\u001b[0;34m.\u001b[0m\u001b[0mset_title\u001b[0m\u001b[0;34m(\u001b[0m\u001b[0;34m'Udacity provided raw training steering input by section'\u001b[0m\u001b[0;34m)\u001b[0m\u001b[0;34m\u001b[0m\u001b[0m\n",
      "\u001b[0;31mNameError\u001b[0m: name 'X_train' is not defined"
     ]
    }
   ],
   "source": [
    "%matplotlib inline\n",
    "t = np.arange(0.0, len(X_train), 1)[200:1000]\n",
    "\n",
    "fig, ax = plt.subplots(figsize =(12,4))\n",
    "ax.set_title('Udacity provided raw training steering input by section')\n",
    "ax.plot(t, y_train[200:1000], color='red')\n",
    "ax.axhline(0, color='black', lw=1)\n",
    "\n",
    "plt.show()"
   ]
  },
  {
   "cell_type": "code",
   "execution_count": 27,
   "metadata": {
    "collapsed": true
   },
   "outputs": [],
   "source": [
    "ch, row, col = 3, 80, 320  # Trimmed image format\n",
    "# modified NVIDIA Model\n",
    "from keras.models import Sequential\n",
    "from keras.layers import Flatten, Dense, Lambda, Activation, Dropout\n",
    "from keras.layers import Convolution2D, MaxPooling2D, Cropping2D\n",
    "\n",
    "model = Sequential()\n",
    "#model.add(Lambda(lambda x: x/255.0 - 0.5, input_shape=(160,320,3))) # Normalizing & mean centering the data\n",
    "#model.add(Lambda(lambda x: x/127.5 - 1., input_shape=(ch, row, col)))\n",
    "model.add(Lambda(lambda x: x/255.0 - 0.5, input_shape=(160, 320, 3))) # Normalizing & mean centering the data\n",
    "model.add(Cropping2D(cropping=((70,25),(0,0)), input_shape=(160, 320, 3)))\n",
    "model.add(Convolution2D(24, 5, 5, subsample=(2,2), activation = \"relu\"))\n",
    "model.add(Convolution2D(36, 5, 5, subsample=(2,2), activation = \"relu\"))\n",
    "model.add(Convolution2D(48, 5, 5, subsample=(2,2), activation = \"relu\"))\n",
    "model.add(Convolution2D(64, 3, 3, activation = \"relu\"))\n",
    "model.add(Convolution2D(64, 3, 3, activation = \"relu\"))\n",
    "model.add(Flatten())\n",
    "model.add(Dense(100))\n",
    "model.add(Dense(50))\n",
    "model.add(Dense(10))          \n",
    "model.add(Dense(1))\n",
    "#model.summary()"
   ]
  },
  {
   "cell_type": "code",
   "execution_count": 8,
   "metadata": {},
   "outputs": [],
   "source": [
    "# The model is based on NVIDIA's \"End to End Learning for Self-Driving Cars\" paper\n",
    "# Source:  https://arxiv.org/pdf/1604.07316.pdf\n",
    "from keras.models import Sequential\n",
    "from keras.layers import Flatten, Dense, Lambda, Activation, Dropout\n",
    "from keras.layers import Convolution2D, MaxPooling2D, Cropping2D\n",
    "keep_prob = 0.5\n",
    "model = Sequential()\n",
    "# First Normalize layer, credit to comma ai model\n",
    "#model.add(Lambda(lambda x: x / 127.5 - 1.0, input_shape=(66, 200, 3)))\n",
    "model.add(Lambda(lambda x: x/255.0 - 0.5, input_shape=(160, 320, 3))) # Normalizing & mean centering the data\n",
    "model.add(Cropping2D(cropping=((70,25),(0,0)), input_shape=(160, 320, 3)))\n",
    "# Color space conversion layer, credit to Vivek's model\n",
    "model.add(Convolution2D(3, 1, 1, border_mode='same', name='color_conv'))\n",
    "# Classic five convolutional, Nvidia model and additional maxpooling layers\n",
    "model.add(Convolution2D(24, 5, 5, border_mode='valid', activation='relu', subsample=(2, 2)))\n",
    "model.add(MaxPooling2D(pool_size=(2, 2), strides=(1, 1)))\n",
    "model.add(Convolution2D(36, 5, 5, border_mode='valid', activation='relu', subsample=(2, 2)))\n",
    "model.add(Convolution2D(48, 5, 5, border_mode='valid', activation='relu', subsample=(2, 2)))\n",
    "model.add(Convolution2D(64, 3, 3, border_mode='valid', activation='relu', subsample=(1, 1)))\n",
    "model.add(Convolution2D(64, 3, 3, border_mode='valid', activation='relu', subsample=(1, 1)))\n",
    "model.add(Flatten())\n",
    "# Next, five fully connected layers\n",
    "model.add(Dense(1164, activation='relu'))\n",
    "model.add(Dropout(keep_prob))\n",
    "model.add(Dense(100, activation='relu'))\n",
    "model.add(Dense(50, activation='relu'))\n",
    "model.add(Dense(10, activation='relu'))\n",
    "model.add(Dense(1))"
   ]
  },
  {
   "cell_type": "code",
   "execution_count": 9,
   "metadata": {},
   "outputs": [
    {
     "name": "stdout",
     "output_type": "stream",
     "text": [
      "Epoch 1/7\n",
      "6358/6428 [============================>.] - ETA: 0s - loss: 0.0318"
     ]
    },
    {
     "name": "stderr",
     "output_type": "stream",
     "text": [
      "/home/gots/miniconda3/envs/carnd-term1/lib/python3.5/site-packages/keras/engine/training.py:1569: UserWarning: Epoch comprised more than `samples_per_epoch` samples, which might affect learning results. Set `samples_per_epoch` correctly to avoid this warning.\n",
      "  warnings.warn('Epoch comprised more than '\n"
     ]
    },
    {
     "name": "stdout",
     "output_type": "stream",
     "text": [
      "6468/6428 [==============================] - 78s - loss: 0.0317 - val_loss: 0.0242\n",
      "Epoch 2/7\n",
      "6492/6428 [==============================] - 78s - loss: 0.0268 - val_loss: 0.0263\n",
      "Epoch 3/7\n",
      "6511/6428 [==============================] - 79s - loss: 0.0233 - val_loss: 0.0246\n",
      "Epoch 4/7\n",
      "6458/6428 [==============================] - 78s - loss: 0.0247 - val_loss: 0.0231\n",
      "Epoch 5/7\n",
      "6528/6428 [==============================] - 79s - loss: 0.0234 - val_loss: 0.0219\n",
      "Epoch 6/7\n",
      "6516/6428 [==============================] - 79s - loss: 0.0225 - val_loss: 0.0193\n",
      "Epoch 7/7\n",
      "6518/6428 [==============================] - 79s - loss: 0.0215 - val_loss: 0.0228\n"
     ]
    }
   ],
   "source": [
    "model.compile(loss='mse', optimizer='adam')\n",
    "history_object = model.fit_generator(train_generator, samples_per_epoch=len(train_samples),\n",
    "                    validation_data=validation_generator,\n",
    "                    nb_val_samples=len(validation_samples),\n",
    "                    nb_epoch=7, verbose=1)\n",
    "\n",
    "model.save('model.h5')"
   ]
  },
  {
   "cell_type": "code",
   "execution_count": 10,
   "metadata": {},
   "outputs": [
    {
     "name": "stdout",
     "output_type": "stream",
     "text": [
      "dict_keys(['val_loss', 'loss'])\n"
     ]
    },
    {
     "data": {
      "image/png": "[encoded data removed]",
      "text/plain": [
       "<matplotlib.figure.Figure at 0x7fac29b5a2b0>"
      ]
     },
     "metadata": {},
     "output_type": "display_data"
    }
   ],
   "source": [
    "# Visualize Model Training History\n",
    "\n",
    "from keras.models import Model\n",
    "import matplotlib.pyplot as plt\n",
    "\n",
    "#history_object = model.fit_generator(train_generator, samples_per_epoch =\n",
    "#    len(train_samples), validation_data = \n",
    "#    validation_generator,\n",
    "#    nb_val_samples = len(validation_samples), \n",
    "#    nb_epoch=5, verbose=1)\n",
    "\n",
    "### print the keys contained in the history object\n",
    "print(history_object.history.keys())\n",
    "\n",
    "### plot the training and validation loss for each epoch\n",
    "plt.plot(history_object.history['loss'])\n",
    "plt.plot(history_object.history['val_loss'])\n",
    "plt.title('model mean squared error loss')\n",
    "plt.ylabel('mean squared error loss')\n",
    "plt.xlabel('epoch')\n",
    "plt.legend(['training set', 'validation set'], loc='upper right')\n",
    "plt.show()"
   ]
  },
  {
   "cell_type": "code",
   "execution_count": null,
   "metadata": {
    "collapsed": true
   },
   "outputs": [],
   "source": [
    "import csv\n",
    "\n",
    "with open('./data/driving_log.csv', 'r') as f:\n",
    "    reader = csv.reader(f)\n",
    "    for row in reader:\n",
    "        correction = 0.2 # paprameter to tune\n",
    "        steering_center = float(row[3])\n",
    "        steering_left = steering_center + correction\n",
    "        steering_right= steering_center - correction\n",
    "        \n",
    "        img_center = process_image(np.asarray(Image.open(row[0])))\n",
    "        img_left   = process_image(np.asarray(Image.open(row[1])))\n",
    "        img_right  = process_image(np.asarray(Image.open(row[2])))\n",
    "        \n",
    "        car_images.extend(img_center, img_left, img_right)\n",
    "        steering_angles.extend(steering_center, steering_left, steering_right)"
   ]
  }
 ],
 "metadata": {
  "kernelspec": {
   "display_name": "Python 3",
   "language": "python",
   "name": "python3"
  },
  "language_info": {
   "codemirror_mode": {
    "name": "ipython",
    "version": 3
   },
   "file_extension": ".py",
   "mimetype": "text/x-python",
   "name": "python",
   "nbconvert_exporter": "python",
   "pygments_lexer": "ipython3",
   "version": "3.5.2"
  },
  "widgets": {
   "state": {},
   "version": "1.1.2"
  }
 },
 "nbformat": 4,
 "nbformat_minor": 2
}
